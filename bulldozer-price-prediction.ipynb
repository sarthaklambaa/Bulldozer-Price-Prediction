{
 "cells": [
  {
   "cell_type": "markdown",
   "id": "d750ce88-fd99-4cdd-a57b-6d9652befe72",
   "metadata": {},
   "source": [
    "# Predicting the price of Bulldozers using Machine Learning\n",
    "In this notebook, we're going to go through an example machine learning project with the goal of predicting the sales price of bulldozers."
   ]
  },
  {
   "cell_type": "markdown",
   "id": "ad34a700-6e2c-4844-94d8-f77016cf4cf8",
   "metadata": {},
   "source": [
    "## 1. Problem Definition\n",
    "> How well can we predict the future sales price of a bulldozer, given it's characterisitics and previous examples of how much similar bulldozers have been sold for?\n"
   ]
  },
  {
   "cell_type": "markdown",
   "id": "bbddf7e3-e434-4672-b54a-c1a63ebad39a",
   "metadata": {},
   "source": [
    "## 2. Data\n",
    "> The data is downloaded from the Kaggle Bluebook for Bulldozers competition : https://www.kaggle.com/competitions/bluebook-for-bulldozers/data\n",
    "\n",
    "There are mainly 3 datasets in this project:\n",
    "* **Train.csv** is the training set, which contains data through the end of 2011.\n",
    "* **Valid.csv** is the validation set, which contains data from January 1, 2012 - April 30, 2012\n",
    "* **Test.csv** is the test set which contains data from May 1, 2012 - November 2012."
   ]
  },
  {
   "cell_type": "markdown",
   "id": "c4b46f13-0985-4d1a-9676-5736d7098db1",
   "metadata": {},
   "source": [
    "## 3. Evaluation\n",
    "The evaluation metric for this competition is Root Mean Squared Log Error (RMSLE) between the predicted prices and the actual prices.\n",
    "\n",
    "**Note:** The goal for most regression metrics is to minimize the error. For example, our goal for this project will be to build a machine learning model which minimizes RMSLE."
   ]
  },
  {
   "cell_type": "markdown",
   "id": "67d67418-22c4-486b-bc66-5112d58595f3",
   "metadata": {},
   "source": [
    "## 4. Features\n",
    "**Data Dictionary:** <br>\n",
    "https://docs.google.com/spreadsheets/d/1gIp3CtwhCqIGkQBw20TZwZ13HqYBRcRk8ClBaAIGsQs/edit#gid=1521484649"
   ]
  },
  {
   "cell_type": "code",
   "execution_count": 1,
   "id": "c0aef5d2-010b-482b-bec0-476594bfe54e",
   "metadata": {},
   "outputs": [],
   "source": [
    "import numpy as np\n",
    "import pandas as pd\n",
    "import sklearn\n",
    "import matplotlib.pyplot as plt"
   ]
  }
 ],
 "metadata": {
  "kernelspec": {
   "display_name": "Python 3 (ipykernel)",
   "language": "python",
   "name": "python3"
  },
  "language_info": {
   "codemirror_mode": {
    "name": "ipython",
    "version": 3
   },
   "file_extension": ".py",
   "mimetype": "text/x-python",
   "name": "python",
   "nbconvert_exporter": "python",
   "pygments_lexer": "ipython3",
   "version": "3.11.7"
  }
 },
 "nbformat": 4,
 "nbformat_minor": 5
}
